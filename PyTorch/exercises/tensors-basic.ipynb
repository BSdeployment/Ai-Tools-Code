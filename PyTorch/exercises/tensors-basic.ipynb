{
 "cells": [
  {
   "cell_type": "code",
   "execution_count": 17,
   "id": "9a567bd8",
   "metadata": {},
   "outputs": [],
   "source": [
    "import torch\n",
    "import torch.version\n",
    "import numpy as np\n"
   ]
  },
  {
   "cell_type": "markdown",
   "id": "41a63e32",
   "metadata": {},
   "source": [
    "תרגיל 1: יצירת טנזור 1D (וקטור)\n",
    "מטרה: צור טנזור בגודל 1D עם המספרים [1, 2, 3, 4, 5]."
   ]
  },
  {
   "cell_type": "code",
   "execution_count": 7,
   "id": "a5617d8f",
   "metadata": {},
   "outputs": [
    {
     "data": {
      "text/plain": [
       "tensor([1, 2, 3, 4, 5])"
      ]
     },
     "execution_count": 7,
     "metadata": {},
     "output_type": "execute_result"
    }
   ],
   "source": [
    "vactor = torch.tensor([1,2,3,4,5])\n",
    "vactor"
   ]
  },
  {
   "cell_type": "markdown",
   "id": "4b5ead27",
   "metadata": {},
   "source": [
    "תרגיל 2: יצירת טנזור 2D (מטריצה)\n",
    "מטרה: צור מטריצה בגודל 2x3 עם ערכים שלמים."
   ]
  },
  {
   "cell_type": "code",
   "execution_count": 9,
   "id": "0f9f182f",
   "metadata": {},
   "outputs": [
    {
     "data": {
      "text/plain": [
       "tensor([[1, 2, 3],\n",
       "        [4, 5, 6]])"
      ]
     },
     "execution_count": 9,
     "metadata": {},
     "output_type": "execute_result"
    }
   ],
   "source": [
    "matrix = torch.tensor([[1,2,3],[4,5,6]])\n",
    "matrix"
   ]
  },
  {
   "cell_type": "markdown",
   "id": "611eff42",
   "metadata": {},
   "source": [
    "תרגיל 3: יצירת טנזור מסוג float\n",
    "מטרה: צור טנזור עם ערכים ממשיים (float).\n",
    "\n",
    "python\n",
    "Copy\n",
    "Edit\n"
   ]
  },
  {
   "cell_type": "code",
   "execution_count": 10,
   "id": "889474e0",
   "metadata": {},
   "outputs": [
    {
     "data": {
      "text/plain": [
       "tensor([1., 2., 4.])"
      ]
     },
     "execution_count": 10,
     "metadata": {},
     "output_type": "execute_result"
    }
   ],
   "source": [
    "float_val = torch.tensor([1,2,4],dtype=torch.float32)\n",
    "float_val"
   ]
  },
  {
   "cell_type": "markdown",
   "id": "1b1d1f44",
   "metadata": {},
   "source": [
    "תרגיל 4: יצירת טנזור מאינדקסים באמצעות range\n",
    "מטרה: צור טנזור שמכיל את הערכים מ-0 עד 9."
   ]
  },
  {
   "cell_type": "code",
   "execution_count": 12,
   "id": "d294b2cf",
   "metadata": {},
   "outputs": [
    {
     "data": {
      "text/plain": [
       "tensor([1, 2, 3, 4, 5, 6, 7, 8])"
      ]
     },
     "execution_count": 12,
     "metadata": {},
     "output_type": "execute_result"
    }
   ],
   "source": [
    "tansor_range = torch.arange(1,9)\n",
    "tansor_range"
   ]
  },
  {
   "cell_type": "markdown",
   "id": "a07f5f43",
   "metadata": {},
   "source": [
    "תרגיל 5: יצירת טנזור של אפסים ואחדים\n",
    "מטרה: השתמש ב-torch.zeros() ו-torch.ones() ליצירת טנזורים."
   ]
  },
  {
   "cell_type": "code",
   "execution_count": 13,
   "id": "cf2178d6",
   "metadata": {},
   "outputs": [
    {
     "data": {
      "text/plain": [
       "(tensor([1., 1., 1., 1., 1., 1., 1., 1., 1., 1.]),\n",
       " tensor([0., 0., 0., 0., 0., 0., 0., 0., 0., 0.]))"
      ]
     },
     "execution_count": 13,
     "metadata": {},
     "output_type": "execute_result"
    }
   ],
   "source": [
    "ones = torch.ones(10)\n",
    "zeros = torch.zeros(10)\n",
    "ones,zeros"
   ]
  },
  {
   "cell_type": "markdown",
   "id": "8eeb1da7",
   "metadata": {},
   "source": [
    "תרגיל 6: יצירת טנזור עם ערכים רנדומליים\n",
    "מטרה: צור טנזור בגודל 3x3 עם ערכים רנדומליים בין 0 ל-1."
   ]
  },
  {
   "cell_type": "code",
   "execution_count": 15,
   "id": "498bec58",
   "metadata": {},
   "outputs": [
    {
     "data": {
      "text/plain": [
       "tensor([[0.0658, 0.7686, 0.7352],\n",
       "        [0.0757, 0.0975, 0.1796],\n",
       "        [0.3684, 0.0386, 0.1794]])"
      ]
     },
     "execution_count": 15,
     "metadata": {},
     "output_type": "execute_result"
    }
   ],
   "source": [
    "rand = torch.rand(3,3)\n",
    "rand"
   ]
  },
  {
   "cell_type": "markdown",
   "id": "bd01b18b",
   "metadata": {},
   "source": [
    "תרגיל 7: המרת טנזור ל-NumPy ולהפך\n",
    "מטרה: המר בין טנזור למערך NumPy."
   ]
  },
  {
   "cell_type": "code",
   "execution_count": 21,
   "id": "652f8cdd",
   "metadata": {},
   "outputs": [
    {
     "data": {
      "text/plain": [
       "(numpy.ndarray, torch.Tensor)"
      ]
     },
     "execution_count": 21,
     "metadata": {},
     "output_type": "execute_result"
    }
   ],
   "source": [
    "arr = np.random.randint(1,50,(5,4))\n",
    "from_numpy = torch.from_numpy(arr)\n",
    "from_numpy\n",
    "\n",
    "back_numpy =from_numpy.numpy()\n",
    "type(back_numpy),type(from_numpy)"
   ]
  },
  {
   "cell_type": "markdown",
   "id": "d3680994",
   "metadata": {},
   "source": [
    "תרגיל 8: שיבוץ ערכים בטנזור\n",
    "מטרה: צור טנזור ושנה את הערך בתא מסוים."
   ]
  },
  {
   "cell_type": "code",
   "execution_count": 28,
   "id": "26608141",
   "metadata": {},
   "outputs": [
    {
     "data": {
      "text/plain": [
       "tensor([[11, 27, 48, 38],\n",
       "        [ 2,  2, 39, 20],\n",
       "        [25, 30, 12,  3],\n",
       "        [13, 10, 14, 13],\n",
       "        [ 2, 25, 38, 44]], dtype=torch.int32)"
      ]
     },
     "execution_count": 28,
     "metadata": {},
     "output_type": "execute_result"
    }
   ],
   "source": [
    "from_numpy[3][2] = 14\n",
    "from_numpy"
   ]
  },
  {
   "cell_type": "markdown",
   "id": "bd081186",
   "metadata": {},
   "source": [
    "תרגיל 10: יצירת טנזור עם ערכים לינאריים\n",
    "מטרה: צור טנזור עם ערכים מ-0 עד 1 עם צעד של 0.2."
   ]
  },
  {
   "cell_type": "code",
   "execution_count": 29,
   "id": "214e820d",
   "metadata": {},
   "outputs": [
    {
     "data": {
      "text/plain": [
       "tensor([0.0000, 0.2000, 0.4000, 0.6000, 0.8000])"
      ]
     },
     "execution_count": 29,
     "metadata": {},
     "output_type": "execute_result"
    }
   ],
   "source": [
    "tensor_step = torch.arange(0,1,0.2)\n",
    "tensor_step"
   ]
  },
  {
   "cell_type": "markdown",
   "id": "fc73553a",
   "metadata": {},
   "source": [
    "תרגיל 11: שינוי סוג נתונים של טנזור"
   ]
  },
  {
   "cell_type": "code",
   "execution_count": 32,
   "id": "d588df51",
   "metadata": {},
   "outputs": [
    {
     "data": {
      "text/plain": [
       "tensor([ 1.,  2.,  3.,  4.,  5.,  6.,  7.,  8.,  9., 10., 11.])"
      ]
     },
     "execution_count": 32,
     "metadata": {},
     "output_type": "execute_result"
    }
   ],
   "source": [
    "tensor_type = torch.arange(1,12)\n",
    "tensor_type.to(torch.float32)"
   ]
  },
  {
   "cell_type": "markdown",
   "id": "ccdc2bfa",
   "metadata": {},
   "source": [
    "תרגיל 11: שינוי סוג נתונים של טנזור"
   ]
  },
  {
   "cell_type": "code",
   "execution_count": 35,
   "id": "9155a213",
   "metadata": {},
   "outputs": [
    {
     "data": {
      "text/plain": [
       "tensor([[0, 0],\n",
       "        [0, 0],\n",
       "        [0, 0]])"
      ]
     },
     "execution_count": 35,
     "metadata": {},
     "output_type": "execute_result"
    }
   ],
   "source": [
    "x = torch.tensor([[1,2],[3,4],[4,6]])\n",
    "like_tensor = torch.zeros_like(x)\n",
    "like_tensor"
   ]
  },
  {
   "cell_type": "markdown",
   "id": "08e65c19",
   "metadata": {},
   "source": [
    "תרגיל 13: חישוב ממוצע, סכום, מקסימום ומינימום בטנזור\n",
    "מטרה: הפעל פונקציות סטטיסטיות בסיסיות על טנזור.\n"
   ]
  },
  {
   "cell_type": "code",
   "execution_count": 37,
   "id": "675cad75",
   "metadata": {},
   "outputs": [
    {
     "data": {
      "text/plain": [
       "tensor([[ 2,  7, 28,  4,  9, 10],\n",
       "        [23, 17, 17, 20, 17, 10],\n",
       "        [21, 14, 11,  2, 29,  1],\n",
       "        [18, 14, 26,  1, 16, 12]])"
      ]
     },
     "execution_count": 37,
     "metadata": {},
     "output_type": "execute_result"
    }
   ],
   "source": [
    "func_tensor = torch.randint(1,30,size=(4,6))\n",
    "func_tensor"
   ]
  },
  {
   "cell_type": "code",
   "execution_count": 42,
   "id": "a47b7c7d",
   "metadata": {},
   "outputs": [
    {
     "data": {
      "text/plain": [
       "(tensor(329),\n",
       " tensor(1),\n",
       " tensor(29),\n",
       " tensor(13.7109, dtype=torch.float16),\n",
       " tensor(14))"
      ]
     },
     "execution_count": 42,
     "metadata": {},
     "output_type": "execute_result"
    }
   ],
   "source": [
    "func_tensor.sum(),func_tensor.min(),func_tensor.max(),func_tensor.mean(dtype=torch.float16),func_tensor.median()"
   ]
  },
  {
   "cell_type": "markdown",
   "id": "d069da0b",
   "metadata": {},
   "source": [
    "תרגיל 14: שינוי צורת טנזור (reshape)\n",
    "מטרה: הפוך טנזור בגודל 6 ל-2x3."
   ]
  },
  {
   "cell_type": "code",
   "execution_count": 46,
   "id": "47cb8028",
   "metadata": {},
   "outputs": [
    {
     "data": {
      "text/plain": [
       "tensor([[1, 2],\n",
       "        [3, 4],\n",
       "        [5, 6]])"
      ]
     },
     "execution_count": 46,
     "metadata": {},
     "output_type": "execute_result"
    }
   ],
   "source": [
    "tensor_reshape = torch.tensor([1,2,3,4,5,6])\n",
    "torch.reshape(tensor_reshape,(3,2))"
   ]
  },
  {
   "cell_type": "markdown",
   "id": "4bfcf0d9",
   "metadata": {},
   "source": [
    "תרגיל 15: חיבור וחיסור בין טנזורים\n",
    "מטרה: בצע פעולות מתמטיות על טנזורים בעלי אותה צורה.\n"
   ]
  },
  {
   "cell_type": "code",
   "execution_count": 47,
   "id": "a430c859",
   "metadata": {},
   "outputs": [
    {
     "data": {
      "text/plain": [
       "(tensor([5, 7, 9]), tensor([3, 3, 3]))"
      ]
     },
     "execution_count": 47,
     "metadata": {},
     "output_type": "execute_result"
    }
   ],
   "source": [
    "a = torch.tensor([1,2,3])\n",
    "b = torch.tensor([4,5,6])\n",
    "\n",
    "a+b,b-a"
   ]
  },
  {
   "cell_type": "markdown",
   "id": "983180e1",
   "metadata": {},
   "source": [
    "תרגיל 16: מכפלה מטריציונית (matmul)\n",
    "מטרה: בצע כפל מטריצות בגודל מתאים."
   ]
  },
  {
   "cell_type": "code",
   "execution_count": null,
   "id": "6ab90d51",
   "metadata": {},
   "outputs": [
    {
     "data": {
      "text/plain": [
       "(tensor([[1, 2],\n",
       "         [3, 4]]),\n",
       " tensor([[5, 6],\n",
       "         [3, 4]]),\n",
       " tensor([[11, 14],\n",
       "         [27, 34]]))"
      ]
     },
     "execution_count": 49,
     "metadata": {},
     "output_type": "execute_result"
    }
   ],
   "source": [
    "a1 = torch.tensor([[1,2],\n",
    "                   [3,4]])\n",
    "a2 = torch.tensor([[5,6],\n",
    "                   [3,4]])\n",
    "\n",
    "a1,a2,torch.matmul(a1,a2)\n"
   ]
  },
  {
   "cell_type": "code",
   "execution_count": 53,
   "id": "ff175ff5",
   "metadata": {},
   "outputs": [
    {
     "data": {
      "text/plain": [
       "(11, 14, 27, 34)"
      ]
     },
     "execution_count": 53,
     "metadata": {},
     "output_type": "execute_result"
    }
   ],
   "source": [
    "1*5+2*3 ,1*6+2*4 ,3*5+4*3, 3*6+4*4 ## example"
   ]
  },
  {
   "cell_type": "markdown",
   "id": "d170df23",
   "metadata": {},
   "source": [
    "תרגיל 17: אינדוקס וחיתוך טנזור\n",
    "מטרה: שלוף אלמנטים מתוך טנזור."
   ]
  },
  {
   "cell_type": "code",
   "execution_count": 70,
   "id": "74dfc708",
   "metadata": {},
   "outputs": [
    {
     "data": {
      "text/plain": [
       "(tensor([[10, 20],\n",
       "         [40, 50],\n",
       "         [78, 65]]),\n",
       " tensor(50),\n",
       " tensor(50),\n",
       " tensor([20, 50, 65]))"
      ]
     },
     "execution_count": 70,
     "metadata": {},
     "output_type": "execute_result"
    }
   ],
   "source": [
    "tensor_pull = torch.tensor([[10,20],[40,50],[78,65]])\n",
    "tensor_pull,tensor_pull[1][1],tensor_pull[1,1],tensor_pull[:,1]"
   ]
  },
  {
   "cell_type": "markdown",
   "id": "8de02d93",
   "metadata": {},
   "source": [
    "תרגיל 18: קיבוץ טנזורים עם torch.cat\n",
    "מטרה: חבר טנזורים לאורך ציר מסוים."
   ]
  },
  {
   "cell_type": "code",
   "execution_count": 74,
   "id": "f5b30b0f",
   "metadata": {},
   "outputs": [
    {
     "data": {
      "text/plain": [
       "(tensor([[1, 2],\n",
       "         [3, 4],\n",
       "         [5, 6],\n",
       "         [7, 8]]),\n",
       " tensor([[1, 2, 5, 6],\n",
       "         [3, 4, 7, 8]]))"
      ]
     },
     "execution_count": 74,
     "metadata": {},
     "output_type": "execute_result"
    }
   ],
   "source": [
    "a = torch.tensor([[1, 2], [3, 4]])\n",
    "b = torch.tensor([[5, 6], [7, 8]])\n",
    "\n",
    "concat_0 = torch.cat((a, b), dim=0)  # ציר 0 – הוספת שורות\n",
    "concat_1 = torch.cat((a, b), dim=1)  # הוספת עמודות\n",
    "\n",
    "concat_0,concat_1"
   ]
  },
  {
   "cell_type": "markdown",
   "id": "aed1635a",
   "metadata": {},
   "source": [
    "תרגיל 19: סידור מחדש של אלמנטים (view / reshape)\n",
    "מטרה: שנה את הטנזור ל-3 מימדים בגודל 2x1x3"
   ]
  },
  {
   "cell_type": "code",
   "execution_count": 78,
   "id": "0b839c3a",
   "metadata": {},
   "outputs": [
    {
     "data": {
      "text/plain": [
       "tensor([[[1],\n",
       "         [2],\n",
       "         [3]],\n",
       "\n",
       "        [[4],\n",
       "         [5],\n",
       "         [6]]])"
      ]
     },
     "execution_count": 78,
     "metadata": {},
     "output_type": "execute_result"
    }
   ],
   "source": [
    "a = torch.tensor([1,2,3,4,5,6])\n",
    "\n",
    "res = a.view(2,3,1)\n",
    "res"
   ]
  },
  {
   "cell_type": "markdown",
   "id": "0b2f4a06",
   "metadata": {},
   "source": [
    "תרגיל 20: יצירת טנזור עם ערכים קבועים\n",
    "מטרה: צור טנזור בגודל 4x4 עם הערך 7 בכל תא.\n"
   ]
  },
  {
   "cell_type": "code",
   "execution_count": 80,
   "id": "b84f6ee5",
   "metadata": {},
   "outputs": [
    {
     "data": {
      "text/plain": [
       "tensor([[7, 7, 7, 7, 7, 7],\n",
       "        [7, 7, 7, 7, 7, 7],\n",
       "        [7, 7, 7, 7, 7, 7],\n",
       "        [7, 7, 7, 7, 7, 7]])"
      ]
     },
     "execution_count": 80,
     "metadata": {},
     "output_type": "execute_result"
    }
   ],
   "source": [
    "full_tensor = torch.full((4,6),7)\n",
    "full_tensor"
   ]
  },
  {
   "cell_type": "markdown",
   "id": "d45709c1",
   "metadata": {},
   "source": [
    "תרגיל 21: שימוש ב־requires_grad=True לחישוב גרדיאנט\n",
    "מטרה: צור טנזור שמאפשר חישוב נגזרת אוטומטית."
   ]
  },
  {
   "cell_type": "code",
   "execution_count": 87,
   "id": "744e736c",
   "metadata": {},
   "outputs": [
    {
     "name": "stdout",
     "output_type": "stream",
     "text": [
      "Gradient: tensor([14.])\n"
     ]
    }
   ],
   "source": [
    "x = torch.tensor([2.0], requires_grad=True)\n",
    "y = x**3 + 2*x + 1\n",
    "\n",
    "y.backward()\n",
    "print(\"Gradient:\", x.grad) "
   ]
  },
  {
   "cell_type": "markdown",
   "id": "64cad1d9",
   "metadata": {},
   "source": [
    "תרגיל 22: השוואה בין טנזורים (==, >, logical_and)\n",
    "מטרה: השווה בין ערכים של טנזור או בין שניים.\n",
    "\n"
   ]
  },
  {
   "cell_type": "code",
   "execution_count": 94,
   "id": "aff6c1ee",
   "metadata": {},
   "outputs": [
    {
     "data": {
      "text/plain": [
       "tensor([ True, False,  True, False,  True])"
      ]
     },
     "execution_count": 94,
     "metadata": {},
     "output_type": "execute_result"
    }
   ],
   "source": [
    "tensor1 = torch.tensor([4,5,6,6,7])\n",
    "tensor2 = torch.tensor([2,5,2,7,2])\n",
    "\n",
    "equal = tensor1>tensor2\n",
    "equal"
   ]
  },
  {
   "cell_type": "markdown",
   "id": "8b0c6384",
   "metadata": {},
   "source": [
    "תרגיל 23: מיון (Sorting) של טנזור\n",
    "מטרה: מיין טנזור בסדר עולה וירד."
   ]
  },
  {
   "cell_type": "code",
   "execution_count": 95,
   "id": "e6a199b6",
   "metadata": {},
   "outputs": [
    {
     "data": {
      "text/plain": [
       "(tensor([4, 5, 6, 6, 7]), tensor([0, 1, 2, 3, 4]))"
      ]
     },
     "execution_count": 95,
     "metadata": {},
     "output_type": "execute_result"
    }
   ],
   "source": [
    "sort,indicate = torch.sort(tensor1)\n",
    "sort,indicate"
   ]
  },
  {
   "cell_type": "markdown",
   "id": "976ee67a",
   "metadata": {},
   "source": [
    "תרגיל 24: שימוש בפונקציית clamp להגבלת ערכים\n",
    "מטרה: הגבל ערכים של טנזור לתחום מסוים (למשל 0–1)."
   ]
  },
  {
   "cell_type": "code",
   "execution_count": 96,
   "id": "b7ac6c68",
   "metadata": {},
   "outputs": [
    {
     "data": {
      "text/plain": [
       "tensor([4, 5, 6, 6, 6])"
      ]
     },
     "execution_count": 96,
     "metadata": {},
     "output_type": "execute_result"
    }
   ],
   "source": [
    "limit = torch.clamp(tensor1,min=4,max=6)\n",
    "limit"
   ]
  },
  {
   "cell_type": "markdown",
   "id": "ce33a1d6",
   "metadata": {},
   "source": [
    "תרגיל 25: שימוש בפונקציות מתמטיות (sin, log, exp)\n",
    "מטרה: הפעל פונקציות מתמטיות על טנזור."
   ]
  },
  {
   "cell_type": "code",
   "execution_count": 97,
   "id": "235e5950",
   "metadata": {},
   "outputs": [
    {
     "name": "stdout",
     "output_type": "stream",
     "text": [
      "Sin: tensor([ 0.0000e+00,  1.0000e+00, -8.7423e-08])\n",
      "Log: tensor([0.0000, 0.6931, 1.0986])\n",
      "Exp: tensor([1.0000, 2.7183])\n"
     ]
    }
   ],
   "source": [
    "x = torch.tensor([0.0, torch.pi / 2, torch.pi])\n",
    "\n",
    "print(\"Sin:\", torch.sin(x))\n",
    "print(\"Log:\", torch.log(torch.tensor([1.0, 2.0, 3.0])))\n",
    "print(\"Exp:\", torch.exp(torch.tensor([0.0, 1.0])))"
   ]
  },
  {
   "cell_type": "markdown",
   "id": "9658f013",
   "metadata": {},
   "source": [
    "תרגיל 27: יצירת טנזור עם ערכים אקראיים נורמליים\n",
    "מטרה: צור טנזור עם התפלגות נורמלית (Gaussian)."
   ]
  },
  {
   "cell_type": "code",
   "execution_count": 98,
   "id": "e45a5e76",
   "metadata": {},
   "outputs": [
    {
     "data": {
      "text/plain": [
       "tensor([[-0.5477,  0.0102, -1.2630,  0.7197],\n",
       "        [ 0.9760,  0.0259,  1.0152,  2.0255],\n",
       "        [ 0.2883, -0.2260, -1.8247,  0.3103],\n",
       "        [ 0.3696, -0.1485, -1.4134,  0.3873]])"
      ]
     },
     "execution_count": 98,
     "metadata": {},
     "output_type": "execute_result"
    }
   ],
   "source": [
    "xy = torch.randn(4,4)\n",
    "xy"
   ]
  },
  {
   "cell_type": "code",
   "execution_count": 100,
   "id": "13dc9487",
   "metadata": {},
   "outputs": [
    {
     "data": {
      "text/plain": [
       "tensor([[ 4.7277,  8.9883, 11.4614,  5.8984],\n",
       "        [ 4.3918,  7.0453,  3.5954,  9.9708],\n",
       "        [ 6.6216, -0.5026, 10.3934,  7.2729],\n",
       "        [ 9.3947, 10.2040,  6.1814,  8.8426]])"
      ]
     },
     "execution_count": 100,
     "metadata": {},
     "output_type": "execute_result"
    }
   ],
   "source": [
    "## דוגמא נוספת\n",
    "mean = 5\n",
    "std =3\n",
    "xy2 = torch.randn(4,4)*std + mean\n",
    "xy2"
   ]
  },
  {
   "cell_type": "code",
   "execution_count": 101,
   "id": "3784a38f",
   "metadata": {},
   "outputs": [
    {
     "data": {
      "text/plain": [
       "tensor([[3.3940, 7.2870, 3.5469, 4.1362],\n",
       "        [6.8408, 5.8983, 7.8331, 6.8048],\n",
       "        [6.2966, 3.5183, 5.0739, 4.9989],\n",
       "        [5.3663, 6.5666, 6.1870, 2.1818]])"
      ]
     },
     "execution_count": 101,
     "metadata": {},
     "output_type": "execute_result"
    }
   ],
   "source": [
    "# דוגמא שונה\n",
    "xy3 = torch.empty(4, 4).uniform_(2, 8)\n",
    "xy3"
   ]
  },
  {
   "cell_type": "markdown",
   "id": "4488c0ac",
   "metadata": {},
   "source": [
    "תרגיל 28: מציאת אינדקס הערך המקסימלי (argmax)\n",
    "מטרה: מצא את מיקום הערך הכי גבוה בטנזור.\n"
   ]
  },
  {
   "cell_type": "code",
   "execution_count": 102,
   "id": "ee3e7d01",
   "metadata": {},
   "outputs": [
    {
     "data": {
      "text/plain": [
       "tensor(3)"
      ]
     },
     "execution_count": 102,
     "metadata": {},
     "output_type": "execute_result"
    }
   ],
   "source": [
    "tensor = torch.tensor([34,66,11,88,52])\n",
    "\n",
    "torch.argmax(tensor)"
   ]
  },
  {
   "cell_type": "markdown",
   "id": "d32f33d8",
   "metadata": {},
   "source": [
    "תרגיל 29: נורמליזציה של טנזור (לערכים בין 0 ל־1)\n",
    "מטרה: הפוך ערכים בטנזור כך שיישרו לקנה מידה 0–1."
   ]
  },
  {
   "cell_type": "code",
   "execution_count": 104,
   "id": "abb44839",
   "metadata": {},
   "outputs": [
    {
     "data": {
      "text/plain": [
       "tensor([0.2987, 0.7143, 0.0000, 1.0000, 0.5325])"
      ]
     },
     "execution_count": 104,
     "metadata": {},
     "output_type": "execute_result"
    }
   ],
   "source": [
    "n_norm = (tensor - tensor.min()) / (tensor.max() - tensor.min())\n",
    "n_norm"
   ]
  },
  {
   "cell_type": "markdown",
   "id": "fa01406b",
   "metadata": {},
   "source": [
    "תרגיל 30: שימוש ב־masked_fill לעבודה עם מסיכות\n",
    "מטרה: החלף ערכים בטנזור לפי מסיכה."
   ]
  },
  {
   "cell_type": "code",
   "execution_count": 108,
   "id": "3418d56b",
   "metadata": {},
   "outputs": [
    {
     "data": {
      "text/plain": [
       "tensor([1., 2., 3., 0., 0.])"
      ]
     },
     "execution_count": 108,
     "metadata": {},
     "output_type": "execute_result"
    }
   ],
   "source": [
    "x = torch.tensor([1.0, 2.0, 3.0,43.0,55.0])\n",
    "\n",
    "mask = x >3\n",
    "\n",
    "res =  x.masked_fill(mask, value=0)\n",
    "res"
   ]
  }
 ],
 "metadata": {
  "kernelspec": {
   "display_name": "Python 3",
   "language": "python",
   "name": "python3"
  },
  "language_info": {
   "codemirror_mode": {
    "name": "ipython",
    "version": 3
   },
   "file_extension": ".py",
   "mimetype": "text/x-python",
   "name": "python",
   "nbconvert_exporter": "python",
   "pygments_lexer": "ipython3",
   "version": "3.11.5"
  }
 },
 "nbformat": 4,
 "nbformat_minor": 5
}
